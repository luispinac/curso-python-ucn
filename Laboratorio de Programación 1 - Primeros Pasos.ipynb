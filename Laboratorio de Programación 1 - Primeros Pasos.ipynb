{
 "cells": [
  {
   "cell_type": "markdown",
   "metadata": {},
   "source": [
    "# Laboratorio de Programación 1. Primeros Pasos\n",
    "\n",
    "El siguiente notebook revisará una serie de temas básicos de programación y Python. Aquí encontrarás explicaciones introductorias y la información necesaria para comenzar a usar jupyter notebooks para programar en Python.\n",
    "\n",
    "Los temas abarcados son:\n",
    "* Tipos de datos\n",
    "    * Números\n",
    "    * Texto\n",
    "    * Impresión\n",
    "    * Listas\n",
    "    * Booleanos\n",
    "* Operadores de comparación\n",
    "* Sentencias if, elif y else\n",
    "* Ciclo For"
   ]
  },
  {
   "cell_type": "markdown",
   "metadata": {},
   "source": [
    "# Cómo funciona este notebook\n",
    "\n",
    "Los notebooks funcionan en base a \"celdas\". Cada celda puede ser de varios tipos. Los dos tipos más usados son las celdas de texto y las celdas de código.\n",
    "\n",
    "Para empezar, haz click en esta celda, y presiona el botón que dice **RUN**. El efecto de esto es que la celda se \"ejecutará\", pero como es texto, simplemente el control pasará a la siguiente celda. \n",
    "\n",
    "Para continuar avanzando, sigue presionando **RUN**.\n",
    "\n",
    "Si llegas a una celda con código, al presionar **RUN** ejecutarás dicho código, y el resultado (la salida) va a aparecer ahí mismo, bajo la celda con el código."
   ]
  },
  {
   "cell_type": "markdown",
   "metadata": {},
   "source": [
    "# Tipos de datos\n",
    "## Números\n",
    "Comencemos por lo básico. Las operaciones matemáticas básicas son la suma, resta, multiplicación y división. Si recordamos el orden de operaciones (Paréntesis, Potencia, Multiplicación, División, Adición, Sustracción) podemos escribir simples cálculos y ejecutarlos directamente en nuestro jupyter notebook."
   ]
  },
  {
   "cell_type": "markdown",
   "metadata": {},
   "source": [
    "Probemos con la más simple de todas: 1+1"
   ]
  },
  {
   "cell_type": "code",
   "execution_count": null,
   "metadata": {
    "scrolled": true
   },
   "outputs": [],
   "source": [
    "1+1"
   ]
  },
  {
   "cell_type": "markdown",
   "metadata": {},
   "source": [
    "Probemos ahora con la multiplicación. Multipliquemos dos por tres"
   ]
  },
  {
   "cell_type": "code",
   "execution_count": null,
   "metadata": {},
   "outputs": [],
   "source": [
    "2*3"
   ]
  },
  {
   "cell_type": "markdown",
   "metadata": {},
   "source": [
    "Probemos ahora con la división. Dividamos uno en dos partes"
   ]
  },
  {
   "cell_type": "code",
   "execution_count": null,
   "metadata": {},
   "outputs": [],
   "source": [
    "1/2"
   ]
  },
  {
   "cell_type": "markdown",
   "metadata": {},
   "source": [
    "Probemos las potencias. En Python las potencias se denotan usando `**`, por ejemplo 2 elevado a 2 se escribiría `2 ** 2`. Ahora intenta tú escribir 2 elevado a 4 en la siguiente celda:"
   ]
  },
  {
   "cell_type": "code",
   "execution_count": null,
   "metadata": {},
   "outputs": [],
   "source": []
  },
  {
   "cell_type": "markdown",
   "metadata": {},
   "source": [
    "Aunque no lo creas, conocer el residuo de una división es una operación importante en programación. Se denota utilizando `%`. \n",
    "\n",
    "Por ejemplo si ejecutamos `3 % 2`, es decir, el resto de dividir  3 y 2, es 1. ¿Será cierto?"
   ]
  },
  {
   "cell_type": "code",
   "execution_count": null,
   "metadata": {},
   "outputs": [],
   "source": []
  },
  {
   "cell_type": "markdown",
   "metadata": {},
   "source": [
    "Ahora prueba calculando el residuo de 14565 con 223. ¿Es 70 verdad? Prúebalo más abajo"
   ]
  },
  {
   "cell_type": "code",
   "execution_count": null,
   "metadata": {},
   "outputs": [],
   "source": []
  },
  {
   "cell_type": "markdown",
   "metadata": {},
   "source": [
    "¿Y qué pasa con los paréntesis? Probemos con una operación simple. Suma 4 con 2 y luego divide el resultado en 6."
   ]
  },
  {
   "cell_type": "code",
   "execution_count": null,
   "metadata": {},
   "outputs": [],
   "source": []
  },
  {
   "cell_type": "markdown",
   "metadata": {},
   "source": [
    "Ahora combinemos todo lo aprendido realizando lo siguiente en orden: \n",
    "\n",
    "* Suma 2 y 526\n",
    "* Dividelo en 3\n",
    "* Elévalo al cuadrado\n",
    "* Calcula el resto con 196\n",
    "\n",
    "Recuerda utilizar paréntesis para que se ejecute en el orden correcto. Escribe tu respuesta en la siguiente celda:"
   ]
  },
  {
   "cell_type": "code",
   "execution_count": null,
   "metadata": {},
   "outputs": [],
   "source": []
  },
  {
   "cell_type": "markdown",
   "metadata": {},
   "source": [
    "El resultado era obviamente 8. ¿O no? Si el resultado que obtuviste no era 8 probablemente no usaste los paréntesis correctamente. Inténtalo hasta que logres el resultado correcto"
   ]
  },
  {
   "cell_type": "markdown",
   "metadata": {},
   "source": [
    "## Asignación de variables\n",
    "Poder calcular rápidamente es conveniente. Pero si necesitamos muchas veces el resultado se vuelve tedioso escribir la fórmula cada vez. Para eso existen las variables. Imagínate que las variables son pequeñas cajitas donde puedes almacenar cosas (valores), y que lo que guardaste en la cajita no va a cambiar de estado hasta que tú mismo escribas algo diferente.\n",
    "\n",
    "La principal característica de las variables es que se identifican por su nombre. En Python el nombre de las variables no pueden empezar ni con números ni con caracteres especiales. Sin embargo, pueden contenerlos. Por ejemplo: \n",
    "\n",
    "* `1mimamamemima` es un nombre inválido porque empieza con un número\n",
    "* `mi mama me mima` es un nombre inválido porque contiene espacios\n",
    "* `ñoño` es un nombre válido pues está dentro de los caracteresde UTF-8 (lo aprenderán más adelante, quizás)\n",
    "* `%_de_Asistencia` es un nombre inválido\n",
    "* `porcentaje_asistencia` es un nombre válido\n",
    "* `PORCENTAJE_ASISTENCIA` es un nombre válido\n",
    "* `mi_mama_me_mima` es un nombre válido\n",
    "\n",
    "Para asignar un valor a una variable (puede ser númerico o de texto) usamos el operador \" = \".\n",
    "\n",
    "Por ejemplo:\n",
    "\n",
    "`x = 1`\n",
    "\n",
    "Como primer ejercicio asignemos un valor de 100 a la variable `x`."
   ]
  },
  {
   "cell_type": "code",
   "execution_count": null,
   "metadata": {},
   "outputs": [],
   "source": [
    "x = 100"
   ]
  },
  {
   "cell_type": "markdown",
   "metadata": {},
   "source": [
    "Ahora, crea la variable `y` con un valor de 1"
   ]
  },
  {
   "cell_type": "code",
   "execution_count": null,
   "metadata": {},
   "outputs": [],
   "source": []
  },
  {
   "cell_type": "markdown",
   "metadata": {},
   "source": [
    "Ahora creemos la variable `z` con un valor de la suma de `x` e `y`."
   ]
  },
  {
   "cell_type": "code",
   "execution_count": null,
   "metadata": {},
   "outputs": [],
   "source": [
    "z = x + y"
   ]
  },
  {
   "cell_type": "markdown",
   "metadata": {},
   "source": [
    "Ahora revisemos el valor de la variable `z`"
   ]
  },
  {
   "cell_type": "code",
   "execution_count": null,
   "metadata": {},
   "outputs": [],
   "source": [
    "z"
   ]
  },
  {
   "cell_type": "markdown",
   "metadata": {},
   "source": [
    "Usemos las variables que definimos para hacer un cálculo matemático más completo. Creemos la variable `programacion` y le asignaremos un valor igual a la suma de `x+y` elevado a `z`"
   ]
  },
  {
   "cell_type": "code",
   "execution_count": null,
   "metadata": {},
   "outputs": [],
   "source": [
    "programacion = z ** z"
   ]
  },
  {
   "cell_type": "code",
   "execution_count": null,
   "metadata": {},
   "outputs": [],
   "source": [
    "programacion"
   ]
  },
  {
   "cell_type": "markdown",
   "metadata": {},
   "source": [
    "¡Wow! Ese es un número gigante. ¿Notaste que puedes asignar el valor de `programación` de dos formas? Lo puedes escribir como `(x+y)**z` o `z**z`. \n",
    "\n",
    "Probemos que esto es verdad. \n",
    "\n",
    "Crea una nueva variable llamada `programacion_la_lleva` como una resta de las dos expresiones anteriores."
   ]
  },
  {
   "cell_type": "code",
   "execution_count": null,
   "metadata": {},
   "outputs": [],
   "source": []
  },
  {
   "cell_type": "code",
   "execution_count": null,
   "metadata": {},
   "outputs": [],
   "source": [
    "programacion_la_lleva"
   ]
  },
  {
   "cell_type": "markdown",
   "metadata": {},
   "source": [
    "¿El resultado es 0 no? Eso significa que ambas operaciones entregan el mismo valor. Más adelante en el curso veremos más a fondo este tema. Por ahora vamos a los textos."
   ]
  },
  {
   "cell_type": "markdown",
   "metadata": {},
   "source": [
    "## Textos\n",
    "\n",
    "El texto en programación generalmente debe estar marcado de alguna forma que lo distinga de las variables. Es por ello que en Python (y en varios otros lenguajes) se utilizan las comillas, simples y dobles. \n",
    "\n",
    "Con los textos podemos hacer una serie de operaciones, pero por el momento concentrémonos en lo básico.\n",
    "\n",
    "Para escribir e identificar un texto debe estar entre comillas (ya sea simples o dobles). Por ejemplo:\n",
    "\n",
    "* 'comillas simples'\n",
    "* \"comillas dobles\"\n",
    "* \"Si escribimos algo que requiera usar apóstrofe, como cosas en inglés, debemos usar comillas dobles. Por ejemplo: Adam's book.\""
   ]
  },
  {
   "cell_type": "markdown",
   "metadata": {},
   "source": [
    "Para iniciar escribe tu nombre entre comillas simples. Por ejemplo, `'Fernanda'`"
   ]
  },
  {
   "cell_type": "code",
   "execution_count": null,
   "metadata": {},
   "outputs": [],
   "source": []
  },
  {
   "cell_type": "markdown",
   "metadata": {},
   "source": [
    "Escribe tu apellido entre comillas dobles"
   ]
  },
  {
   "cell_type": "code",
   "execution_count": null,
   "metadata": {},
   "outputs": [],
   "source": []
  },
  {
   "cell_type": "markdown",
   "metadata": {},
   "source": [
    "Ahora asignemos nuestros textos a variables, crea la variable `nombre` y `apellido` con tu nombre y apellido. Recuerda rodear el texto entre comillas (simples o dobles).\n",
    "\n",
    "Crea cada variable en una línea distinta de la celda."
   ]
  },
  {
   "cell_type": "code",
   "execution_count": null,
   "metadata": {},
   "outputs": [],
   "source": []
  },
  {
   "cell_type": "markdown",
   "metadata": {},
   "source": [
    "Ahora aprenderemos a concatenar (unir) textos. Para ello usaremos el operador de suma (+). Suma las variables nombre y apellido y ve el resultado"
   ]
  },
  {
   "cell_type": "code",
   "execution_count": null,
   "metadata": {},
   "outputs": [],
   "source": []
  },
  {
   "cell_type": "markdown",
   "metadata": {},
   "source": [
    "# Imprimiendo resultados\n",
    "Hasta el momento hemos mostrado los resultados escribiendo solo la variable o la operación. Muchas veces queremos ser mucho más descriptivos con los resultados, o mostrar otra información con nuestro código. Para ello usaremos la función `print` y lo que hemos practicado en los ejercicios anteriores.\n",
    "\n",
    "A continuación puedes ver como se ocupa la función `print`"
   ]
  },
  {
   "cell_type": "code",
   "execution_count": null,
   "metadata": {},
   "outputs": [],
   "source": [
    "print('Estoy imprimiendo algo con un print')\n",
    "\n",
    "algo = \"estoy muy feliz\"\n",
    "print(algo)"
   ]
  },
  {
   "cell_type": "markdown",
   "metadata": {},
   "source": [
    "También podemos llamar a variables, a textos y variables a la vez. Probemos lo primero: creemos la variable `nombre_completo` y asignemos la suma de la variable `nombre` y la variable `apellido` que creamos anteriormente"
   ]
  },
  {
   "cell_type": "code",
   "execution_count": null,
   "metadata": {},
   "outputs": [],
   "source": []
  },
  {
   "cell_type": "markdown",
   "metadata": {},
   "source": [
    "Al ejecutar la línea no sucedió nada: no se \"imprimió\" como en los primeros ejercicios. Probemos ahora usando la función `print`. \n",
    "\n",
    "Imprime la variable `nombre_completo` usando `print`. "
   ]
  },
  {
   "cell_type": "code",
   "execution_count": null,
   "metadata": {},
   "outputs": [],
   "source": []
  },
  {
   "cell_type": "markdown",
   "metadata": {},
   "source": [
    "Como recordatorio, debes saber que \"+\" solo funcionará apropiadamente si todo lo que se está sumando son del mismo tipo, es decir, números o texto. Probemos sumar nuestro nombre con la variable `z` que creamos más atrás. Dejaremos el código para que lo ejecutes."
   ]
  },
  {
   "cell_type": "code",
   "execution_count": null,
   "metadata": {},
   "outputs": [],
   "source": [
    "print(nombre + z)"
   ]
  },
  {
   "cell_type": "markdown",
   "metadata": {},
   "source": [
    "Ups!, ocurrió un error. Y es justo a lo que nos referíamos. Intentaste sumar un texto (también llamado string) con un número (o también llamado integer). Más adelante aprenderemos más sobre este error y los nombres de los tipos de datos"
   ]
  },
  {
   "cell_type": "markdown",
   "metadata": {},
   "source": [
    "Ahora combinemos, para imprimir varias cosas juntas, separamos con una coma cada uno de los valores. \n",
    "\n",
    "Mira cómo podemos imprimir \"Mi nombre es\" y la variable `nombre_completo`"
   ]
  },
  {
   "cell_type": "code",
   "execution_count": null,
   "metadata": {},
   "outputs": [],
   "source": [
    "print('Mi nombre es', nombre_completo)"
   ]
  },
  {
   "cell_type": "markdown",
   "metadata": {
    "collapsed": true
   },
   "source": [
    "Podemos hacer cosas más complicadas en el futuro, como lo que está en el siguiente bloque (solo ejecútalo)"
   ]
  },
  {
   "cell_type": "code",
   "execution_count": null,
   "metadata": {},
   "outputs": [],
   "source": [
    "print('Mi nombre es {uno}  y mi apellido es {dos}'.format(uno=nombre, dos=apellido)) #P"
   ]
  },
  {
   "cell_type": "markdown",
   "metadata": {},
   "source": [
    "# Código que no es código\n",
    "Algo muy útil al escribir código es la posibilidad de poder dejar instrucciones para el humano que está leyendo el código (y no para el computador que lo va a ejecutar).\n",
    "\n",
    "En la mayoría de los lenguajes de programación esto se llaman \"comentarios\", y en el caso de Python,  se demarcan usando `#`.\n",
    "\n",
    "Mira la siguiente celda:"
   ]
  },
  {
   "cell_type": "code",
   "execution_count": null,
   "metadata": {},
   "outputs": [],
   "source": [
    "# A continuación vamos a sumar 1 + 2 y guardaremos el resultado en una variable\n",
    "a = 1 + 2\n",
    "\n",
    "# Ahora, le restamos 4 al resultado anterior\n",
    "b = a - 4\n",
    "\n",
    "# Finalmente, vamos a imprimir el resultado\n",
    "print(b)"
   ]
  },
  {
   "cell_type": "markdown",
   "metadata": {},
   "source": [
    "¿Te fijaste que el texto que escribimos después de `#` no tuvo ningún efecto en la ejecución?\n",
    "\n",
    "Esa es la característica principal de escribir comentarios. Éstos le hacen la vida más fácil al programador.\n",
    "\n",
    "Los comentarios no necesariamente tienen que comenzar al inicio de cada línea:"
   ]
  },
  {
   "cell_type": "code",
   "execution_count": null,
   "metadata": {},
   "outputs": [],
   "source": [
    "a = 1 + 2 # A continuación vamos a sumar 1 + 2 y guardaremos el resultado en una variable\n",
    "\n",
    "b = a - 4 # Ahora, le restamos 4 al resultado anterior\n",
    "\n",
    "print(b) # Finalmente, vamos a imprimir el resultado"
   ]
  },
  {
   "cell_type": "markdown",
   "metadata": {},
   "source": [
    "# Listas\n",
    "\n",
    "Las listas son un tipo de variable que tienen una característica particular: son conjuntos de datos ordenados. En otras palabras, mientras que una variable \"normal\" (un entero o texto) pueden almacenar solamente un valor, una lista puede almacenar varios valores, cada uno de ellos colocado en una posición dentro de la lista.\n",
    "\n",
    "A esa posición le vamos a llamar el \"índice\".\n",
    "\n",
    "Las listas son muy útiles y es importante que las entiendas desde el principio.\n",
    "\n",
    "Para escribir una lista usamos [ ] separando con una coma (,) cada elemento. Por ejemplo [1,2,3,4,5,6]\n",
    "\n",
    "Para comenzar creemos una lista con los números del 1 al 10."
   ]
  },
  {
   "cell_type": "code",
   "execution_count": null,
   "metadata": {},
   "outputs": [],
   "source": [
    "[1,2,3,4,5,6,7,8,9,10]"
   ]
  },
  {
   "cell_type": "markdown",
   "metadata": {},
   "source": [
    "Las listas pueden agrupar datos de distinto tipo. Podemos tener una lista con números y texto e incluso con listas. Sí, puedes tener una lista de listas de listas.\n",
    "Probemos primero con una lista con texto y números. \n",
    "\n",
    "Creemos una lista de tres elementos que contenga texto en el primero y números en los otros dos."
   ]
  },
  {
   "cell_type": "code",
   "execution_count": null,
   "metadata": {},
   "outputs": [],
   "source": [
    "['hola', 1 , 0]"
   ]
  },
  {
   "cell_type": "markdown",
   "metadata": {},
   "source": [
    "Ahora hagamos una lista igual a la anterior pero el cuarto elemento ahora será una lista con dos números: 0 y 1."
   ]
  },
  {
   "cell_type": "code",
   "execution_count": null,
   "metadata": {},
   "outputs": [],
   "source": [
    "['hola', 1 ,0, [0,1]]"
   ]
  },
  {
   "cell_type": "markdown",
   "metadata": {},
   "source": [
    "Para poder trabajar más fácilmente, asignemos la lista a una variable llamada `mi_lista`"
   ]
  },
  {
   "cell_type": "code",
   "execution_count": null,
   "metadata": {},
   "outputs": [],
   "source": [
    "mi_lista = ['hola', 1, 0, [0,1]]"
   ]
  },
  {
   "cell_type": "markdown",
   "metadata": {},
   "source": [
    "Una vez que una lista se crea, muchas veces vamos a necesitar agregarle elementos.\n",
    "\n",
    "Para agregar elementos a la lista utilizaremos el comando `append` de la siguiente forma:\n",
    "\n",
    "`mi_lista.append('Elemento a agregar que puede ser texto entre comillas o una variable') `\n",
    "    \n",
    "Agreguemos el contenido de la variable `nombre` a la lista y luego mostremos la lista con `print(mi_lista)`"
   ]
  },
  {
   "cell_type": "code",
   "execution_count": null,
   "metadata": {},
   "outputs": [],
   "source": [
    "mi_lista.append(nombre)\n",
    "print(mi_lista)"
   ]
  },
  {
   "cell_type": "markdown",
   "metadata": {},
   "source": [
    "En la siguiente celda, agrega el contenido de la variable `apellido` y luego muestra la lista usando `print`"
   ]
  },
  {
   "cell_type": "code",
   "execution_count": null,
   "metadata": {},
   "outputs": [],
   "source": []
  },
  {
   "cell_type": "markdown",
   "metadata": {},
   "source": [
    "¿Apareció tu apellido al final de la lista? Si no lo hizo, vuelve a intentarlo."
   ]
  },
  {
   "cell_type": "markdown",
   "metadata": {
    "collapsed": true
   },
   "source": [
    "## Seleccionar elementos de una lista\n",
    "Tu nombre ahora es parte de la lista. Ahora aprenderemos a seleccionar elementos de una lista. Para ello utilizaremos `[]` al lado de la variable que contiene nuestra lista y colocaremos el número del elemento que necesitamos. \n",
    "\n",
    "Utilizando solo esta información trata de recuperar el primer elemento de la lista: 'hola'"
   ]
  },
  {
   "cell_type": "code",
   "execution_count": null,
   "metadata": {},
   "outputs": [],
   "source": []
  },
  {
   "cell_type": "markdown",
   "metadata": {
    "collapsed": true
   },
   "source": [
    "Si el resultado que obtuviste fue 1, es porque no te explicamos algo muy importante: en Python y en la mayoría de los lenguajes de programación (Que no son Pascal o R) las listas comienzan en el número 0. Es decir, el primer elemento de `mi_lista` lo obtendrás escribiendo `mi_lista[0]`. Si lo lograste la primera vez, ¡Felicitaciones! \n",
    "\n",
    "Si no lo lograste prueba en la línea de abajo el resultado de imprimir `mi_lista[0]`"
   ]
  },
  {
   "cell_type": "code",
   "execution_count": null,
   "metadata": {},
   "outputs": [],
   "source": []
  },
  {
   "cell_type": "markdown",
   "metadata": {},
   "source": [
    "Ahora intenta obtener el cuarto elemento de `mi_lista`"
   ]
  },
  {
   "cell_type": "code",
   "execution_count": null,
   "metadata": {},
   "outputs": [],
   "source": []
  },
  {
   "cell_type": "markdown",
   "metadata": {},
   "source": [
    "Ahora que sabemos que `mi_lista[3]` es otra lista intentemos obtener el segundo elemento de ESA lista. Para ello debes agregar otro `[]` a `mi_lista` con la posición que buscamos (en este caso la posición 2). Recuerda que las listas parten del `0`"
   ]
  },
  {
   "cell_type": "code",
   "execution_count": null,
   "metadata": {},
   "outputs": [],
   "source": [
    "mi_lista[3][1]"
   ]
  },
  {
   "cell_type": "markdown",
   "metadata": {},
   "source": [
    "Utilizando  lo aprendido, intenta completar el código de la siguiente celda para que imprima 'objetivo', utilizando solo la selección en `lista_final`"
   ]
  },
  {
   "cell_type": "code",
   "execution_count": null,
   "metadata": {},
   "outputs": [],
   "source": [
    "lista_final = [1, 2, 3, [4, 5, ['objetivo'] ] ]\n",
    "\n",
    "# Escribe acá lo que se necesita para mostrar por pantalla lo que te están pidiendo:\n"
   ]
  },
  {
   "cell_type": "markdown",
   "metadata": {},
   "source": [
    "## Booleanos\n",
    "Como ya todos aprobaron Álgebra, imaginamos que el uso de expresiones lógicas y booleanos (expresiones de Verdadero o Falso) serán pan comido para ustedes. \n",
    "\n",
    "En Python los booleanos son `True` y `False`, para verdadero y falso respectivamente. \n",
    "\n",
    "Para partir simplemente escribe `True` en la celda siguiente."
   ]
  },
  {
   "cell_type": "code",
   "execution_count": null,
   "metadata": {},
   "outputs": [],
   "source": []
  },
  {
   "cell_type": "markdown",
   "metadata": {},
   "source": [
    "Ahora escribe `False`"
   ]
  },
  {
   "cell_type": "code",
   "execution_count": null,
   "metadata": {},
   "outputs": [],
   "source": []
  },
  {
   "cell_type": "markdown",
   "metadata": {},
   "source": [
    "## Operadores de comparación\n",
    "Los operadores de comparación son > (mayor que), < (menor que), >= (mayor o igual a ), <= (menor o igual a ), == (igual a), != (distinto de). \n",
    "\n",
    "Probaremos cada uno en este apartado.\n",
    "\n",
    "### Mayor que\n",
    "Prueba escribiendo que 3 es mayor que 2"
   ]
  },
  {
   "cell_type": "code",
   "execution_count": null,
   "metadata": {},
   "outputs": [],
   "source": []
  },
  {
   "cell_type": "markdown",
   "metadata": {},
   "source": [
    "El resultado debe ser verdadero o 'True'.\n",
    "Ahora prueba que 5 es menor a 123"
   ]
  },
  {
   "cell_type": "code",
   "execution_count": null,
   "metadata": {},
   "outputs": [],
   "source": []
  },
  {
   "cell_type": "markdown",
   "metadata": {},
   "source": [
    "Ahora probemos que 2 es mayor o igual a dos "
   ]
  },
  {
   "cell_type": "code",
   "execution_count": null,
   "metadata": {},
   "outputs": [],
   "source": []
  },
  {
   "cell_type": "markdown",
   "metadata": {},
   "source": [
    "Ahora probemos que 13 es menor o igual a 5."
   ]
  },
  {
   "cell_type": "code",
   "execution_count": null,
   "metadata": {},
   "outputs": [],
   "source": []
  },
  {
   "cell_type": "markdown",
   "metadata": {},
   "source": [
    "Ahora prueba que 145 es igual a 145. Aunque suene tonto esto es muy importante cuando programamos."
   ]
  },
  {
   "cell_type": "code",
   "execution_count": null,
   "metadata": {},
   "outputs": [],
   "source": []
  },
  {
   "cell_type": "markdown",
   "metadata": {},
   "source": [
    "Crea la variable `cientocuartentaycinco` y asignale el valor, ya adivinaste, 145.\n",
    "\n",
    "Luego, en la segunda línea en la celda, prueba si el valor de la variable `ciencocuarentaycinco` es igual a 145"
   ]
  },
  {
   "cell_type": "code",
   "execution_count": null,
   "metadata": {},
   "outputs": [],
   "source": []
  },
  {
   "cell_type": "markdown",
   "metadata": {},
   "source": [
    "Probemos si 2 es igual a 'dos'. "
   ]
  },
  {
   "cell_type": "code",
   "execution_count": null,
   "metadata": {},
   "outputs": [],
   "source": []
  },
  {
   "cell_type": "markdown",
   "metadata": {},
   "source": [
    "Ahora prueba que dos es distinto (!=) de dos"
   ]
  },
  {
   "cell_type": "code",
   "execution_count": null,
   "metadata": {},
   "outputs": [],
   "source": []
  },
  {
   "cell_type": "markdown",
   "metadata": {},
   "source": [
    "# Operadores Lógicos\n",
    "Como aprendienron en Álgebra, los operadores `y` y `ó` (`and` y `or` en Python e Inglés) son operadores lógicos de Álgebra Booleana. Con ello sabemos si expresiones son verdaderas o falsas. Para realizar estas operaciones solo necesitas escribir:\n",
    "\n",
    "    (Operación lógica 1) or (Operación lógica 2) \n",
    "    (Operación lógica 1) and (Operación lógica 2) \n",
    "\n",
    "Siguiendo con esta idea, usemos los booleanos que aprendimos arriba para nuestras operaciones básicas."
   ]
  },
  {
   "cell_type": "markdown",
   "metadata": {},
   "source": [
    "Primero revisemos el resultado de la operación: Verdadero `y` Falso "
   ]
  },
  {
   "cell_type": "code",
   "execution_count": null,
   "metadata": {},
   "outputs": [],
   "source": [
    "True and False"
   ]
  },
  {
   "cell_type": "markdown",
   "metadata": {},
   "source": [
    "Ahora revisa el resultado de: Falso o Verdadero"
   ]
  },
  {
   "cell_type": "code",
   "execution_count": null,
   "metadata": {},
   "outputs": [],
   "source": []
  },
  {
   "cell_type": "markdown",
   "metadata": {},
   "source": [
    "Tratemos algo más complicado: Veamos si el número 100 está en el rango 0 a 1000 ó en el rango 50 a 500:"
   ]
  },
  {
   "cell_type": "code",
   "execution_count": null,
   "metadata": {},
   "outputs": [],
   "source": [
    "((0 <= 100) and (100 <= 1000)) or ((50 <= 100) and (100 <= 500))"
   ]
  },
  {
   "cell_type": "markdown",
   "metadata": {},
   "source": [
    "Ahora combinemos lo aprendido: Abajo compara si 2 es igual a 2  y si 'hola' es igual a 'hola' en una sola operación"
   ]
  },
  {
   "cell_type": "code",
   "execution_count": null,
   "metadata": {},
   "outputs": [],
   "source": []
  },
  {
   "cell_type": "markdown",
   "metadata": {},
   "source": [
    "# If y Else\n",
    "\n",
    "Si mañana me levanto temprano, iré de paseo y me compraré un helado. \n",
    "\n",
    "En nuestra vida cotidiana muchas veces ponemos condiciones a nuestras acciones. En programación el caso no es distinto y muchas veces necesitamos hacer algo solo si un conjunto de condiciones se cumplen. Para ello utilizaremos el comando `if`.\n",
    "\n",
    "\n",
    "La estructura del comando es la siguiente: \n",
    "```\n",
    "if (expresión lógica) : \n",
    "    tarea que quiero realizar.\n",
    "```       \n",
    "        \n",
    "Para que te hagas una idea ejecuta el siguiente código."
   ]
  },
  {
   "cell_type": "code",
   "execution_count": null,
   "metadata": {},
   "outputs": [],
   "source": [
    "if (1 == 1):\n",
    "    print('evidentemente 1 es igual a 1')"
   ]
  },
  {
   "cell_type": "markdown",
   "metadata": {},
   "source": [
    "Ahora crea uno tú. Quiero que imprimas 'Wow lo logré' si 2 es menor a 1. \n",
    "\n",
    "Ya que dos es mayor a uno. ¿Qué debiese pasar con tu código?"
   ]
  },
  {
   "cell_type": "code",
   "execution_count": null,
   "metadata": {},
   "outputs": [],
   "source": []
  },
  {
   "cell_type": "markdown",
   "metadata": {},
   "source": [
    "Si lo hiciste bien, tu código debió hacer absolutamente nada. Eso es lo correcto pues la condición no se cumple. Cuando necesitamos que algo suceda si la condición no se cumple utilizamos `else`.\n",
    "\n",
    "La sintaxis es la siguiente:\n",
    "```\n",
    "    if (expresión lógica):\n",
    "        Tarea si es cierto.\n",
    "    else:\n",
    "        Tarea si es falso\n",
    "```\n",
    "\n",
    "Vale la pena mencionar que no es necesario colocar paréntesis a la expresión lógica, pero es una buena práctica para ser ordenado (otros lenguajes sí lo requieren).\n",
    "\n",
    "Ejecuta el código siguiente y úsalo como referencia."
   ]
  },
  {
   "cell_type": "code",
   "execution_count": null,
   "metadata": {},
   "outputs": [],
   "source": [
    "if (2 < 1): \n",
    "    print('Wow lo logré') \n",
    "else: \n",
    "    print('No logré pasar el if')"
   ]
  },
  {
   "cell_type": "markdown",
   "metadata": {},
   "source": [
    "Ahora crea tu propio condicional. Verifica si 25 es mayor al resto de dividir 12357 en 224. (Recuerda el operador en la primera parte de este laboratorio). \n",
    "\n",
    "Si la condición es cierta imprime 'La condición es cierta', de lo contrario imprime 'La condición es falsa'"
   ]
  },
  {
   "cell_type": "code",
   "execution_count": null,
   "metadata": {},
   "outputs": [],
   "source": []
  },
  {
   "cell_type": "markdown",
   "metadata": {},
   "source": [
    "# Ciclo For\n",
    "Los ciclos `for` son tradicionalmente usados cuando tenemos un trozo de código que queremos repetir un número determinado de veces. El ciclo `for` en Python itera sobre una secuencia, ejecutando el trozo de código por cada elemento de dicha secuencia.\n",
    "\n",
    "## Notación 1:\n",
    "\n",
    "Si tenemos una lista y queremos recorrer cada elemento de la lista repitiendo el código utilizamos:\n",
    "\n",
    "    for i in lista_con_elementos:\n",
    "        código que se debe ejecutar\n",
    "\n",
    "## Notación 2:\n",
    "        \n",
    "Si no tenemos una lista y queremos repetir algo una cantidad determinada de veces utilizamos:\n",
    "    \n",
    "    for i in range(número_de_veces):\n",
    "        código que se debe ejecutar\n",
    "        \n",
    "Para la primera notación ejecuta el código siguiente. Fíjate en el número de elementos de la lista y la cantidad de veces que el código se repitió."
   ]
  },
  {
   "cell_type": "code",
   "execution_count": null,
   "metadata": {},
   "outputs": [],
   "source": [
    "lista = [1,2,3,4,5,6,7]\n",
    "\n",
    "for i in lista:\n",
    "    print(i)"
   ]
  },
  {
   "cell_type": "markdown",
   "metadata": {},
   "source": [
    "Para la segunda notación si queremos repetir nuestro código 10 veces utlizamos `range(10)` como se puede ver en el ejemplo.\n",
    "\n",
    "Fíjate muy bien en los números que se escriben:"
   ]
  },
  {
   "cell_type": "code",
   "execution_count": null,
   "metadata": {},
   "outputs": [],
   "source": [
    "for i in range(10):\n",
    "    print(i)"
   ]
  },
  {
   "cell_type": "markdown",
   "metadata": {
    "collapsed": true
   },
   "source": [
    "Ahora inténtalo tú:\n",
    "* Crea una lista de 10 elementos, y que se llame `nueva_lista`\n",
    "* Haz un ciclo `for` e imprime los valores de cada elemento en la lista. \n",
    "* Recuerda que los elementos pueden ser de cualquier tipo: números, texto y hasta otras listas.\n",
    "    "
   ]
  },
  {
   "cell_type": "code",
   "execution_count": null,
   "metadata": {},
   "outputs": [],
   "source": []
  },
  {
   "cell_type": "markdown",
   "metadata": {},
   "source": [
    "Ahora recordando lo aprendido de listas, imprime el séptimo de la lista"
   ]
  },
  {
   "cell_type": "code",
   "execution_count": null,
   "metadata": {},
   "outputs": [],
   "source": []
  },
  {
   "cell_type": "markdown",
   "metadata": {},
   "source": [
    "Ahora utiliza la función range(n) para imprimir los números del 0 al 50. (son 51 elementos en total)"
   ]
  },
  {
   "cell_type": "code",
   "execution_count": null,
   "metadata": {},
   "outputs": [],
   "source": []
  },
  {
   "cell_type": "markdown",
   "metadata": {},
   "source": [
    "# Desafío 1\n",
    "\n",
    "Ahora ya sabes lo suficiente para resolver algunos problemas. Usando solamente variables, ciclos `for` e `if` se pueden resolver **muchas** problemas!\n",
    "\n",
    "Utilizando la función `range(n)` y el ciclo `for` calcula la suma de todos los números del **uno** al **100**. Probablemente necesites guardar datos en una variable. Suerte!"
   ]
  },
  {
   "cell_type": "code",
   "execution_count": null,
   "metadata": {},
   "outputs": [],
   "source": []
  },
  {
   "cell_type": "markdown",
   "metadata": {},
   "source": [
    "Si el resultado no te dió 5050, entonces ¡revisa tu código!"
   ]
  },
  {
   "cell_type": "markdown",
   "metadata": {},
   "source": [
    "# Desafío 2\n",
    "Utilizando la función `range(..)`, el ciclo `for` y la instrucción `if`, escribe por pantalla los números divisibles por 7 que se encuentran entre el 1 y el 100.\n",
    "\n",
    "**Ayuda**: Para saber si un número es divisible por otro, lo más fácil es preguntar si el resto de la división es 0. O sea, que si al dividir un número por otro, no nos sobra nada y el resultado es un número entero. \n",
    "\n",
    "Por ejemplo, si hacemos la operación `10 % 2` y el resultado es cero, significa que al dividir 10 en 2, el resto es cero (obvio, no?). Esto a la vez significa que 10 es divisible por 2.\n",
    "\n",
    "Si el resultado de la operación es diferente a cero, significa que no es divisible."
   ]
  },
  {
   "cell_type": "code",
   "execution_count": null,
   "metadata": {},
   "outputs": [],
   "source": []
  },
  {
   "cell_type": "markdown",
   "metadata": {},
   "source": [
    "A estas alturas de tu vida, deberías saber cuáles números entre 1 y 100 son divisibles por 7. ¡Comprueba si tu código entrega el resultado correcto!"
   ]
  },
  {
   "cell_type": "markdown",
   "metadata": {},
   "source": [
    "# Desafío 3\n",
    "Imagina que tienes una lista con valores (por ejemplo, cantidad de boletas de la empresa, asistentes a una serie de conciertos, edades de jugadores de curling, etc). Imagina también que en la variable `promedio` está el valor promedio de los números de la lista.\n",
    "\n",
    "Lo que necesitamos hacer es individualizar (o sea, escribir por pantalla) todos los valores de la lista que son mayores al valor en la variable promedio."
   ]
  },
  {
   "cell_type": "code",
   "execution_count": null,
   "metadata": {},
   "outputs": [],
   "source": [
    "datos = [51, 75, 72, 42, 70, 43, 34, 23, 29, 64, 37, 55, 35, 56, 98, 28, 38, 18, 76, 48]\n",
    "promedio = 50\n",
    "\n",
    "# escribe acá tu código para escribir por pantalla los elementos de la lista 'datos'\n",
    "# que son mayores que el valor de la variable promedio\n"
   ]
  },
  {
   "cell_type": "markdown",
   "metadata": {},
   "source": [
    "Si como resultado no obtuviste 51, 75, 72, 70, 64, 55, 56, 98, 76, entonces ¡revisa tu código!"
   ]
  },
  {
   "cell_type": "markdown",
   "metadata": {},
   "source": [
    "***\n",
    "Basado en contenido de Python Data Science and Machine Learning Bootcamp de Udemy."
   ]
  }
 ],
 "metadata": {
  "kernelspec": {
   "display_name": "Python 3",
   "language": "python",
   "name": "python3"
  },
  "language_info": {
   "codemirror_mode": {
    "name": "ipython",
    "version": 3
   },
   "file_extension": ".py",
   "mimetype": "text/x-python",
   "name": "python",
   "nbconvert_exporter": "python",
   "pygments_lexer": "ipython3",
   "version": "3.6.2"
  }
 },
 "nbformat": 4,
 "nbformat_minor": 2
}
